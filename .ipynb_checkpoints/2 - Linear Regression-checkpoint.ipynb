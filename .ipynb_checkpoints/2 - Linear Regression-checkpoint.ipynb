{
 "cells": [
  {
   "cell_type": "markdown",
   "metadata": {},
   "source": [
    "# Linear Regression\n",
    "\n",
    "Linear regression predicts a real-valued output based on a number of features. The learned model is a linear function that maps the one or more *explanatory* or *independent* variables to the one *dependent* variable.\n",
    "\n",
    "Input - x - Independent variables\n",
    "\n",
    "Output - y - Dependent variables\n",
    "\n",
    "Single training example - (x, y)\n",
    "\n",
    "An example dataset is defined below"
   ]
  },
  {
   "cell_type": "code",
   "execution_count": 1,
   "metadata": {},
   "outputs": [
    {
     "name": "stdout",
     "output_type": "stream",
     "text": [
      "Example Datapoint:  [array([2, 7]) 3.2000000000000002]\n"
     ]
    }
   ],
   "source": [
    "import numpy as np\n",
    "\n",
    "# Define the features, the independent variables. This example has two features.\n",
    "x = np.array([[2,7],\n",
    "              [1,1],\n",
    "              [3,18],\n",
    "              [2,5],\n",
    "              [1,2],\n",
    "              [3,10]])\n",
    "\n",
    "# Define the labels, the dependent variables\n",
    "y = np.array([3.2,\n",
    "              1.1,\n",
    "              6.9,\n",
    "              4.3,\n",
    "              2.1,\n",
    "              7.8])\n",
    "\n",
    "# A single data point is then:\n",
    "p1 = np.array([x[0], y[0]])\n",
    "print('Example Datapoint: ', p1)"
   ]
  },
  {
   "cell_type": "markdown",
   "metadata": {},
   "source": [
    "In linear regression, our *hypothesis* function is of the form `theta_0 + theta_1 * x`, where `theta_0` and `theta_1` are the *parameters* that define the function, whose value is learned by the training algorithm."
   ]
  },
  {
   "cell_type": "code",
   "execution_count": 2,
   "metadata": {
    "collapsed": true
   },
   "outputs": [],
   "source": [
    "# Our hypothesis function estimates the dependent variable\n",
    "def hypothesis_function(x, theta_0, theta_1):\n",
    "    return theta_0 + np.matmul(x, theta_1)"
   ]
  },
  {
   "cell_type": "markdown",
   "metadata": {},
   "source": [
    "In the above example the hypothesis function would then try and find the value of `theta_0` and `theta_1` that minimises the error in the function. An illustrative example is shown below:"
   ]
  },
  {
   "cell_type": "code",
   "execution_count": 3,
   "metadata": {},
   "outputs": [
    {
     "name": "stdout",
     "output_type": "stream",
     "text": [
      "Estimate:  [10  3 22  8  4 14]\n",
      "Difference:  [  6.8   1.9  15.1   3.7   1.9   6.2]\n"
     ]
    }
   ],
   "source": [
    "theta_0 = 1\n",
    "theta_1 = np.array([1,1]) # One parameter for each feature\n",
    "\n",
    "# Our hypothesis function\n",
    "estimate_y = hypothesis_function(x, theta_0, theta_1)\n",
    "\n",
    "print('Estimate: ', estimate_y)\n",
    "print('Difference: ', np.absolute(y - estimate_y))"
   ]
  },
  {
   "cell_type": "markdown",
   "metadata": {},
   "source": [
    "This estimate is clearly quite a long way off! The values from using a different set of parameters are shown below:"
   ]
  },
  {
   "cell_type": "code",
   "execution_count": 4,
   "metadata": {},
   "outputs": [
    {
     "name": "stdout",
     "output_type": "stream",
     "text": [
      "Estimate:  [  5.8   0.5  15.1   4.2   1.3   8.7]\n",
      "Difference:  [ 2.6  0.6  8.2  0.1  0.8  0.9]\n"
     ]
    }
   ],
   "source": [
    "theta_0 = -0.8\n",
    "theta_1 = np.array([0.5,0.8]) # One parameter for each feature\n",
    "\n",
    "#Our hypothesis function\n",
    "estimate_y = hypothesis_function(x, theta_0, theta_1)\n",
    "\n",
    "print('Estimate: ', estimate_y)\n",
    "print('Difference: ', np.absolute(y - estimate_y))"
   ]
  },
  {
   "cell_type": "markdown",
   "metadata": {},
   "source": [
    "## Loss Function\n",
    "These parameter values are clearly a much better choice (whilst still not being perfect). We need a method to automatically adjust the parameter values `theta_0` and `theta_1` to minimise the difference between the estimates and the actual values of the dependent variable. We do this by defining our *loss* or *cost* function.\n",
    "\n",
    "A common loss function is the *mean squared difference*. This is shown below:"
   ]
  },
  {
   "cell_type": "code",
   "execution_count": 5,
   "metadata": {
    "collapsed": true
   },
   "outputs": [],
   "source": [
    "def loss_function(y, estimate_y):\n",
    "    return np.mean(np.square(y - estimate_y))"
   ]
  },
  {
   "cell_type": "markdown",
   "metadata": {},
   "source": [
    "This loss function can be used to measure how well our choice of parameters predict the dependent variable, as shown in the examples."
   ]
  },
  {
   "cell_type": "code",
   "execution_count": 6,
   "metadata": {},
   "outputs": [
    {
     "name": "stdout",
     "output_type": "stream",
     "text": [
      "Loss:  55.6\n"
     ]
    }
   ],
   "source": [
    "theta_0 = 1\n",
    "theta_1 = np.array([1,1]) # One parameter for each feature\n",
    "\n",
    "estimate_y = hypothesis_function(x, theta_0, theta_1)\n",
    "\n",
    "loss = loss_function(y, estimate_y)\n",
    "print('Loss: ', loss)"
   ]
  },
  {
   "cell_type": "code",
   "execution_count": 7,
   "metadata": {},
   "outputs": [
    {
     "name": "stdout",
     "output_type": "stream",
     "text": [
      "Loss:  12.6366666667\n"
     ]
    }
   ],
   "source": [
    "theta_0 = -0.8\n",
    "theta_1 = np.array([0.5,0.8]) # One parameter for each feature\n",
    "\n",
    "estimate_y = hypothesis_function(x, theta_0, theta_1)\n",
    "loss = loss_function(y, estimate_y)\n",
    "print('Loss: ', loss)"
   ]
  },
  {
   "cell_type": "markdown",
   "metadata": {},
   "source": [
    "This example shows that the loss function is lower for the second set of parameter values, as we would expect.\n",
    "\n",
    "The next step is to adjust the parameter values in order to minimise the defined loss function. For example, adjusting the value of `theta_0` changes the loss. This can be plotted as follows:"
   ]
  },
  {
   "cell_type": "code",
   "execution_count": 8,
   "metadata": {
    "scrolled": true
   },
   "outputs": [
    {
     "data": {
      "text/plain": [
       "<matplotlib.text.Text at 0x7fc2ba42f710>"
      ]
     },
     "execution_count": 8,
     "metadata": {},
     "output_type": "execute_result"
    },
    {
     "data": {
      "image/png": "[encoded data removed]",
      "text/plain": [
       "<matplotlib.figure.Figure at 0x7fc2d131d438>"
      ]
     },
     "metadata": {},
     "output_type": "display_data"
    }
   ],
   "source": [
    "%matplotlib inline\n",
    "\n",
    "import matplotlib\n",
    "import matplotlib.pyplot as plt\n",
    "\n",
    "theta_0 = np.arange(21)-10\n",
    "theta_1 = np.array([0.5,0.8]) # One parameter for each feature\n",
    "\n",
    "loss = []\n",
    "for t_0 in theta_0:\n",
    "    loss.append(loss_function(y, hypothesis_function(x, t_0, theta_1)))\n",
    "    \n",
    "plt.plot(theta_0, loss)\n",
    "plt.xlabel('theta_0')\n",
    "plt.ylabel('loss')"
   ]
  },
  {
   "cell_type": "markdown",
   "metadata": {},
   "source": [
    "The value of `theta_0` that minimises the loss function can then be chosen. However this assumed that the values in `theta_1` are fixed, and so this value is unlikely to be a global minimum. An algorithm is required to minimise the loss function over all of the parameter values at the same time to find a global minimum. This is the fundamental concept of machine learning algorithms.\n",
    "\n",
    "There are numerous minimisation techniques that can be employed to find the optimum set of parameter values, but the most common is *gradient descent*."
   ]
  },
  {
   "cell_type": "markdown",
   "metadata": {},
   "source": [
    "## Gradient Descent\n",
    "\n",
    "This is an algorithm that adjusts the values of the parameters slowly to find a minimum for the loss function. It works by gradually adjusting the values of the parameters in the direction of maximum negative gradient; the direction that minimises the loss function in the local region. After taking very many small steps in the calculated direction, the algorithm will converge to a steady-state minimum loss value. The update rule is as follows:\n",
    "\n",
    "theta_i := theta_i - alpha * grad(loss_function w.r.t. theta_i)\n",
    "\n",
    "Here alpha is the *learning rate*. This is a *hyper-parameter* of the algorithm and needs to be set according to the problem being solved. If the learning rate is too large, then it can cause the algorithm to explode to infinity, but if the value is too small then the rate of learning can become very slow.\n",
    "\n",
    "The second term is the gradient of the loss function with respect to theta_i\n",
    "\n",
    "This gradient can be calculated based on the loss function being used. For the case of linear regression, the gradients are reasonably easy to calculate, and are defined as follows:"
   ]
  },
  {
   "cell_type": "code",
   "execution_count": 20,
   "metadata": {
    "collapsed": true
   },
   "outputs": [],
   "source": [
    "def gradient_descent_update(x, y, theta_0, theta_1, learning_rate=0.01):\n",
    "    new_theta_0 = theta_0 - learning_rate * (np.sum(hypothesis_function(x, theta_0, theta_1) - y, axis=0) / len(y))\n",
    "    new_theta_1 = theta_1 - learning_rate * (np.matmul((hypothesis_function(x, theta_0, theta_1) - y), x) / len(y))\n",
    "    return new_theta_0, new_theta_1"
   ]
  },
  {
   "cell_type": "markdown",
   "metadata": {},
   "source": [
    "With this definition of the gradient we have everything we need to run the linear regression algorithm:"
   ]
  },
  {
   "cell_type": "code",
   "execution_count": 12,
   "metadata": {},
   "outputs": [
    {
     "name": "stdout",
     "output_type": "stream",
     "text": [
      "theta_0:  -1.86334771099\n",
      "theta_1:  [ 3.28128319 -0.06500692]\n",
      "Final Loss:  0.341294096642\n"
     ]
    }
   ],
   "source": [
    "# Initialise parameter values\n",
    "theta_0 = 1\n",
    "theta_1 = np.array([1,1])\n",
    "\n",
    "# Gradually update the parameter values\n",
    "n = 0\n",
    "while n < 20000:\n",
    "    theta_0, theta_1 = gradient_descent_update(x, y, theta_0, theta_1)\n",
    "    n += 1\n",
    "    \n",
    "print('theta_0: ', theta_0)\n",
    "print('theta_1: ', theta_1)\n",
    "print('Final Loss: ', loss_function(y, hypothesis_function(x, theta_0, theta_1)))"
   ]
  },
  {
   "cell_type": "markdown",
   "metadata": {},
   "source": [
    "## Sci-kit Learn\n",
    "\n",
    "Sci-kit learn is a python library which has a large number of inbuilt machine learning algorithm, including linear regression. This is run in a handful of lines of code, as shown here:"
   ]
  },
  {
   "cell_type": "code",
   "execution_count": 13,
   "metadata": {},
   "outputs": [
    {
     "name": "stdout",
     "output_type": "stream",
     "text": [
      "theta_0:  -1.86339092873\n",
      "theta_1:  [ 3.28131749 -0.0650108 ]\n",
      "Loss:  0.341294096472\n"
     ]
    }
   ],
   "source": [
    "from sklearn.linear_model import LinearRegression\n",
    "\n",
    "lm = LinearRegression()\n",
    "\n",
    "lm.fit(x, y)\n",
    "\n",
    "print('theta_0: ', lm.intercept_)\n",
    "print('theta_1: ', lm.coef_)\n",
    "\n",
    "loss = loss_function(y, hypothesis_function(x, lm.intercept_, lm.coef_))\n",
    "print('Loss: ', loss)"
   ]
  },
  {
   "cell_type": "markdown",
   "metadata": {},
   "source": [
    "See how the output matches the output of the method we implemented above."
   ]
  },
  {
   "cell_type": "markdown",
   "metadata": {
    "collapsed": true
   },
   "source": [
    "## Tips and Tricks\n",
    "\n",
    "### Parameter Scaling\n",
    "When performing gradient descent then it is important to ensure that all of our features are on a similar scale. This is because if one feature is orders of magnitude greater than another then the gradients become skewed, causing the algorithm  to either take much longer or fail to converge entirely.\n",
    "\n",
    "For example:"
   ]
  },
  {
   "cell_type": "code",
   "execution_count": 43,
   "metadata": {},
   "outputs": [
    {
     "name": "stdout",
     "output_type": "stream",
     "text": [
      "theta_0:  5.78520430494\n",
      "theta_1:  [ 114.51793105   -1.41469502]\n",
      "Final Loss:  267297952.518\n"
     ]
    }
   ],
   "source": [
    "# Data - feature 1 is the size of the house in squared feet and feature 2 is the number of bedrooms\n",
    "# Data - y is the value o the house\n",
    "x = np.array([[2000,3],[1800,2],[1200,1],[1350,2],[1670,2],[1942,3]])\n",
    "y = np.array([230000, 190000, 156000, 180000, 195000, 204000])\n",
    "\n",
    "# Initialise parameter values\n",
    "theta_0 = 1\n",
    "theta_1 = np.array([1,1])\n",
    "\n",
    "# Gradually update the parameter values\n",
    "n = 0\n",
    "while n < 20000:\n",
    "    theta_0, theta_1 = gradient_descent_update(x, y, theta_0, theta_1, learning_rate=0.0000001)\n",
    "    n += 1\n",
    "    \n",
    "print('theta_0: ', theta_0)\n",
    "print('theta_1: ', theta_1)\n",
    "print('Final Loss: ', loss_function(y, hypothesis_function(x, theta_0, theta_1)))"
   ]
  },
  {
   "cell_type": "markdown",
   "metadata": {},
   "source": [
    "Here the algorithm fails to converge unless the learning rate is reduced significantly, and then it doesn't converge within the 20000 iteration limit. However, if we simply scale the feature vectors to be of the same order of magnitude:"
   ]
  },
  {
   "cell_type": "code",
   "execution_count": 46,
   "metadata": {},
   "outputs": [
    {
     "name": "stdout",
     "output_type": "stream",
     "text": [
      "theta_0:  94773.1703883\n",
      "theta_1:  [ 38366.32717302  15685.27204531]\n",
      "Final Loss:  56247568.1267\n"
     ]
    }
   ],
   "source": [
    "# Data - feature 1 is the size of the house in squared feet and feature 2 is the number of bedrooms\n",
    "# Data - y is the value o the house\n",
    "x = np.array([[2000.,3],[1800.,2],[1200.,1],[1350.,2],[1670.,2],[1942.,3]])\n",
    "y = np.array([230000, 190000, 156000, 180000, 195000, 204000])\n",
    "\n",
    "# Scale the first feature\n",
    "x[:,0] = np.divide(x[:,0], 1000.0)\n",
    "\n",
    "# Initialise parameter values\n",
    "theta_0 = 1\n",
    "theta_1 = np.array([1,1])\n",
    "\n",
    "# Gradually update the parameter values\n",
    "n = 0\n",
    "while n < 20000:\n",
    "    theta_0, theta_1 = gradient_descent_update(x, y, theta_0, theta_1)\n",
    "    n += 1\n",
    "    \n",
    "print('theta_0: ', theta_0)\n",
    "print('theta_1: ', theta_1)\n",
    "print('Final Loss: ', loss_function(y, hypothesis_function(x, theta_0, theta_1)))"
   ]
  },
  {
   "cell_type": "markdown",
   "metadata": {},
   "source": [
    "With the scaled feature set, the solution converges appropriately using the standard learning rate within the 20000 iterations.\n",
    "\n",
    "### Mean Normalization\n",
    "Scaling can also be achieved by 'mean normalization' where the features are scaled around the mean and standard deviation of the feature space, forming a normal distribution about the origin:"
   ]
  },
  {
   "cell_type": "code",
   "execution_count": 49,
   "metadata": {},
   "outputs": [
    {
     "name": "stdout",
     "output_type": "stream",
     "text": [
      "[[ 1.15100102  1.21267813]\n",
      " [ 0.47327716 -0.24253563]\n",
      " [-1.55989442 -1.69774938]\n",
      " [-1.05160152 -0.24253563]\n",
      " [ 0.03275665 -0.24253563]\n",
      " [ 0.9544611   1.21267813]]\n",
      "theta_0:  192500.0\n",
      "theta_1:  [  9942.98516676  11897.68554356]\n",
      "Final Loss:  55835546.0362\n"
     ]
    }
   ],
   "source": [
    "# Data - feature 1 is the size of the house in squared feet and feature 2 is the number of bedrooms\n",
    "# Data - y is the value o the house\n",
    "x = np.array([[2000.,3],[1800.,2],[1200.,1],[1350.,2],[1670.,2],[1942.,3]])\n",
    "y = np.array([230000, 190000, 156000, 180000, 195000, 204000])\n",
    "\n",
    "# Scale the first feature\n",
    "x[:,0] = np.divide(x[:,0]-np.mean(x[:,0]), np.std(x[:,0]))\n",
    "x[:,1] = np.divide(x[:,1]-np.mean(x[:,1]), np.std(x[:,1]))\n",
    "\n",
    "print(x)\n",
    "\n",
    "# Initialise parameter values\n",
    "theta_0 = 1\n",
    "theta_1 = np.array([1,1])\n",
    "\n",
    "# Gradually update the parameter values\n",
    "n = 0\n",
    "while n < 20000:\n",
    "    theta_0, theta_1 = gradient_descent_update(x, y, theta_0, theta_1)\n",
    "    n += 1\n",
    "    \n",
    "print('theta_0: ', theta_0)\n",
    "print('theta_1: ', theta_1)\n",
    "print('Final Loss: ', loss_function(y, hypothesis_function(x, theta_0, theta_1)))"
   ]
  },
  {
   "cell_type": "markdown",
   "metadata": {},
   "source": [
    "### Max-Min Scaling\n",
    "An alternative method is the 'max-min' scaling method which puts all values in the range 0 and 1:"
   ]
  },
  {
   "cell_type": "code",
   "execution_count": 50,
   "metadata": {},
   "outputs": [
    {
     "name": "stdout",
     "output_type": "stream",
     "text": [
      "[[ 0.      0.    ]\n",
      " [ 0.25    0.5   ]\n",
      " [ 1.      1.    ]\n",
      " [ 0.8125  0.5   ]\n",
      " [ 0.4125  0.5   ]\n",
      " [ 0.0725  0.    ]]\n",
      "theta_0:  218359.606711\n",
      "theta_1:  [-27417.23622353 -34125.32472196]\n",
      "Final Loss:  55842088.3469\n"
     ]
    }
   ],
   "source": [
    "# Data - feature 1 is the size of the house in squared feet and feature 2 is the number of bedrooms\n",
    "# Data - y is the value o the house\n",
    "x = np.array([[2000.,3],[1800.,2],[1200.,1],[1350.,2],[1670.,2],[1942.,3]])\n",
    "y = np.array([230000, 190000, 156000, 180000, 195000, 204000])\n",
    "\n",
    "# Scale the first feature\n",
    "x[:,0] = np.divide(np.max(x[:,0])-x[:,0], np.max(x[:,0])-np.min(x[:,0]))\n",
    "x[:,1] = np.divide(np.max(x[:,1])-x[:,1], np.max(x[:,1])-np.min(x[:,1]))\n",
    "\n",
    "print(x)\n",
    "\n",
    "# Initialise parameter values\n",
    "theta_0 = 1\n",
    "theta_1 = np.array([1,1])\n",
    "\n",
    "# Gradually update the parameter values\n",
    "n = 0\n",
    "while n < 20000:\n",
    "    theta_0, theta_1 = gradient_descent_update(x, y, theta_0, theta_1)\n",
    "    n += 1\n",
    "    \n",
    "print('theta_0: ', theta_0)\n",
    "print('theta_1: ', theta_1)\n",
    "print('Final Loss: ', loss_function(y, hypothesis_function(x, theta_0, theta_1)))"
   ]
  },
  {
   "cell_type": "markdown",
   "metadata": {},
   "source": [
    "Sci-kit learn has some inbuilt functions that perform data normalization for us:"
   ]
  },
  {
   "cell_type": "code",
   "execution_count": 55,
   "metadata": {},
   "outputs": [
    {
     "name": "stdout",
     "output_type": "stream",
     "text": [
      "[[ 0.48417828  0.53881591]\n",
      " [ 0.43576045  0.3592106 ]\n",
      " [ 0.29050697  0.1796053 ]\n",
      " [ 0.32682034  0.3592106 ]\n",
      " [ 0.40428886  0.3592106 ]\n",
      " [ 0.47013711  0.53881591]]\n",
      "theta_0:  109222.046315\n",
      "theta_1:  [  94210.33704912  116780.04647577]\n",
      "Final Loss:  58116675.4388\n"
     ]
    }
   ],
   "source": [
    "from sklearn.preprocessing import normalize\n",
    "\n",
    "# Data - feature 1 is the size of the house in squared feet and feature 2 is the number of bedrooms\n",
    "# Data - y is the value o the house\n",
    "x = np.array([[2000.,3],[1800.,2],[1200.,1],[1350.,2],[1670.,2],[1942.,3]])\n",
    "y = np.array([230000, 190000, 156000, 180000, 195000, 204000])\n",
    "\n",
    "x = normalize(x, axis=0)\n",
    "\n",
    "print(x)\n",
    "\n",
    "# Initialise parameter values\n",
    "theta_0 = 1\n",
    "theta_1 = np.array([1,1])\n",
    "\n",
    "# Gradually update the parameter values\n",
    "n = 0\n",
    "while n < 20000:\n",
    "    theta_0, theta_1 = gradient_descent_update(x, y, theta_0, theta_1)\n",
    "    n += 1\n",
    "    \n",
    "print('theta_0: ', theta_0)\n",
    "print('theta_1: ', theta_1)\n",
    "print('Final Loss: ', loss_function(y, hypothesis_function(x, theta_0, theta_1)))"
   ]
  },
  {
   "cell_type": "markdown",
   "metadata": {},
   "source": [
    "Interestingly each of the proposed methods gives different results, each with very similar final loss values. This is likely because our dataset is very small and so there are a large number of similarly effective solutions (local minima)"
   ]
  },
  {
   "cell_type": "markdown",
   "metadata": {},
   "source": [
    "\n"
   ]
  }
 ],
 "metadata": {
  "kernelspec": {
   "display_name": "Python [conda env:ML_Coursera]",
   "language": "python",
   "name": "conda-env-ML_Coursera-py"
  },
  "language_info": {
   "codemirror_mode": {
    "name": "ipython",
    "version": 3
   },
   "file_extension": ".py",
   "mimetype": "text/x-python",
   "name": "python",
   "nbconvert_exporter": "python",
   "pygments_lexer": "ipython3",
   "version": "3.6.2"
  }
 },
 "nbformat": 4,
 "nbformat_minor": 2
}

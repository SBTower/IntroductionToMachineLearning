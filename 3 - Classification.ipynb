{
 "cells": [
  {
   "cell_type": "markdown",
   "metadata": {},
   "source": [
    "# Classification\n",
    "\n",
    "Classification problems form a collection of machine learning problems that require the algorithm to idenitfy which class a data point belongs to.\n",
    "\n",
    "The simplest form of classification is *binary* classification. Here there are only two possible classes, usually '0' and '1'. The algorithm then aims to find a *decision boundary* that accurately splits up the two classes in feature space.\n",
    "\n",
    "*Multi-class* classification is the set of problems where each data point can belong to one of many classes (here many means more than 2). These problems often require slightly different algorithms compared to binary classification, incorporating tricks like the *one-vs-all* or *one-vs-one* methods.\n",
    "\n",
    "## Logistic Regression\n",
    "\n",
    "Logistic regression is an example of a binary classification algorithm. It works in a similar way to linear regression, except that the output is manipulated to give a binary output and the loss function is adjusted to work for classification.\n",
    "\n",
    "An example dataset is defined below:"
   ]
  },
  {
   "cell_type": "code",
   "execution_count": 1,
   "metadata": {},
   "outputs": [
    {
     "name": "stdout",
     "output_type": "stream",
     "text": [
      "Example Datapoint:  [array([2, 7]) 1]\n"
     ]
    }
   ],
   "source": [
    "import numpy as np\n",
    "\n",
    "# Define the features, the independent variables. This example has two features.\n",
    "x = np.array([[2,7],[1,1],[3,18],[2,5],[1,2],[3,10]])\n",
    "\n",
    "# Define the labels, the dependent variables\n",
    "y = np.array([1,0,1,1,0,1])\n",
    "\n",
    "# A single data point is then:\n",
    "p1 = np.array([x[0], y[0]])\n",
    "print('Example Datapoint: ', p1)"
   ]
  },
  {
   "cell_type": "markdown",
   "metadata": {},
   "source": [
    "As with linear regression, the first thing to define is our *hypothesis function*. Here we ensure that the output of our classification algorithm is between 0 and 1:\n",
    "\n",
    "`0 <= h(theta) <= 1`\n",
    "\n",
    "This ensures that the output can easily be converted into a prediction of which class the data point belongs to by setting a threshold on the output of the hypothesis function. Usually by default this threshold is set at 0.5\n",
    "\n",
    "In logistic regression the hypothesis function is converted to a value between 0 and 1 by using the *sigmoid* function. This is the function\n",
    "\n",
    "`1 / (1+exp(z))`\n",
    "\n",
    "and is available in scipy:"
   ]
  },
  {
   "cell_type": "code",
   "execution_count": 2,
   "metadata": {},
   "outputs": [],
   "source": [
    "from scipy.special import expit\n",
    "\n",
    "# Our hypothesis function estimates the dependent variable\n",
    "def hypothesis_function(x, theta_0, theta_1):\n",
    "    return expit(theta_0 + np.matmul(x, theta_1))"
   ]
  },
  {
   "cell_type": "markdown",
   "metadata": {},
   "source": [
    "This function will produce an estimate for the label of the data point based on the features and the parameters `theta_1` and `theta_2`. An example with dummy values for `theta_0` ad `theta_1` is shown below"
   ]
  },
  {
   "cell_type": "code",
   "execution_count": 3,
   "metadata": {},
   "outputs": [
    {
     "name": "stdout",
     "output_type": "stream",
     "text": [
      "Estimate:  [ 0.9999546   0.95257413  1.          0.99966465  0.98201379  0.99999917]\n",
      "Actual:  [1 0 1 1 0 1]\n"
     ]
    }
   ],
   "source": [
    "theta_0 = 1\n",
    "theta_1 = np.array([1,1]) # One parameter for each feature\n",
    "\n",
    "# Our hypothesis function\n",
    "estimate_y = hypothesis_function(x, theta_0, theta_1)\n",
    "\n",
    "print('Estimate: ', estimate_y)\n",
    "print('Actual: ', y)"
   ]
  },
  {
   "cell_type": "markdown",
   "metadata": {},
   "source": [
    "As the output of our hypothesis function is between 0 and 1, we can assume that it represents the *probability* that the data point input belongs to the class `1`. Therefore if the output is 0.7, it can be said that this represents a probability of 70% that this example belongs to class `1`"
   ]
  },
  {
   "cell_type": "markdown",
   "metadata": {},
   "source": [
    "## Loss Function\n",
    "\n",
    "As with linear regression, we need to find a method to automatically find the values of the parameters `theta_0` and `theta_1` that predict the classes of the data points with the highest accuracy. As before, this requires the definition of a *loss function* that can be minimised using the gradient descent algorithm.\n",
    "\n"
   ]
  },
  {
   "cell_type": "code",
   "execution_count": 4,
   "metadata": {},
   "outputs": [],
   "source": [
    "def loss_function(y, estimate_y):\n",
    "    return np.mean(-y*np.log(estimate_y) + -(1-y)*np.log(1-estimate_y))"
   ]
  },
  {
   "cell_type": "markdown",
   "metadata": {},
   "source": [
    "As with linear regression, our loss function measures how well our predictions match the actual labels on our data. Our choice of loss function is such that the worse our prediction, the higher the penalty.\n",
    "\n",
    "If the label is 1, then the loss function looks like the following for different outputs of the hypothesis function:"
   ]
  },
  {
   "cell_type": "code",
   "execution_count": 10,
   "metadata": {},
   "outputs": [
    {
     "data": {
      "text/plain": [
       "<matplotlib.text.Text at 0x7fce9a2e5898>"
      ]
     },
     "execution_count": 10,
     "metadata": {},
     "output_type": "execute_result"
    },
    {
     "data": {
      "image/png": "[encoded data removed]",
      "text/plain": [
       "<matplotlib.figure.Figure at 0x7fce9a39e9e8>"
      ]
     },
     "metadata": {},
     "output_type": "display_data"
    }
   ],
   "source": [
    "%matplotlib inline\n",
    "\n",
    "import matplotlib\n",
    "import matplotlib.pyplot as plt\n",
    "\n",
    "z = (np.arange(49)+1)/50.\n",
    "loss = np.empty(49)\n",
    "\n",
    "for i in range(49):\n",
    "    loss[i] = loss_function(1, z[i])\n",
    "\n",
    "plt.plot(z, loss)\n",
    "plt.xlabel('hypothesis value')\n",
    "plt.ylabel('loss')"
   ]
  },
  {
   "cell_type": "markdown",
   "metadata": {},
   "source": [
    "Alternatively if the label is 0, the loss looks like the following:"
   ]
  },
  {
   "cell_type": "code",
   "execution_count": 11,
   "metadata": {
    "scrolled": true
   },
   "outputs": [
    {
     "data": {
      "text/plain": [
       "<matplotlib.text.Text at 0x7fce9a3a5b70>"
      ]
     },
     "execution_count": 11,
     "metadata": {},
     "output_type": "execute_result"
    },
    {
     "data": {
      "image/png": "[encoded data removed]",
      "text/plain": [
       "<matplotlib.figure.Figure at 0x7fce9a2889b0>"
      ]
     },
     "metadata": {},
     "output_type": "display_data"
    }
   ],
   "source": [
    "%matplotlib inline\n",
    "\n",
    "import matplotlib\n",
    "import matplotlib.pyplot as plt\n",
    "\n",
    "z = (np.arange(49)+1)/50.\n",
    "loss = np.empty(49)\n",
    "\n",
    "for i in range(49):\n",
    "    loss[i] = loss_function(0, z[i])\n",
    "\n",
    "plt.plot(z, loss)\n",
    "plt.xlabel('hypothesis value')\n",
    "plt.ylabel('loss')"
   ]
  },
  {
   "cell_type": "markdown",
   "metadata": {},
   "source": [
    "The choice of cost function therefore gives a useful feedback as to how well our hypothesis function is currently performing. Additionally, it can be shown that this cost function results in a *convex* function, allowing us to use gradient descent and find the one global minimum."
   ]
  },
  {
   "cell_type": "code",
   "execution_count": 12,
   "metadata": {},
   "outputs": [
    {
     "name": "stdout",
     "output_type": "stream",
     "text": [
      "Loss:  1.17785315276\n"
     ]
    }
   ],
   "source": [
    "theta_0 = 1\n",
    "theta_1 = np.array([1,1]) # One parameter for each feature\n",
    "\n",
    "estimate_y = hypothesis_function(x, theta_0, theta_1)\n",
    "\n",
    "loss = loss_function(y, estimate_y)\n",
    "print('Loss: ', loss)"
   ]
  },
  {
   "cell_type": "markdown",
   "metadata": {},
   "source": [
    "## Gradient Descent\n",
    "\n",
    "The same gradient descent update rule can be used that was introduced in linear regression:\n",
    "\n",
    "theta_i := theta_i - alpha * grad(loss_function w.r.t. theta_i)\n",
    "\n",
    "Calculating the gradient of our loss function results in the following gradient descent update rule for logistic regression:"
   ]
  },
  {
   "cell_type": "code",
   "execution_count": 13,
   "metadata": {},
   "outputs": [],
   "source": [
    "def gradient_descent_update(x, y, theta_0, theta_1, learning_rate=0.01):\n",
    "    new_theta_0 = theta_0 - learning_rate * (np.sum(hypothesis_function(x, theta_0, theta_1) - y, axis=0) / len(y))\n",
    "    new_theta_1 = theta_1 - learning_rate * (np.matmul((hypothesis_function(x, theta_0, theta_1) - y), x) / len(y))\n",
    "    return new_theta_0, new_theta_1"
   ]
  },
  {
   "cell_type": "markdown",
   "metadata": {},
   "source": [
    "Note that this update rule is *exactly the same* as the update rule for linear regression, just with a different hypothesis function"
   ]
  },
  {
   "cell_type": "markdown",
   "metadata": {},
   "source": [
    "With this update rule defined, we have everything we need to perform binary logistic regression."
   ]
  },
  {
   "cell_type": "code",
   "execution_count": 14,
   "metadata": {},
   "outputs": [
    {
     "name": "stdout",
     "output_type": "stream",
     "text": [
      "theta_0:  -5.30408731214\n",
      "theta_1:  [-1.84584055  2.42379972]\n",
      "Final Loss:  0.0245959476373\n"
     ]
    }
   ],
   "source": [
    "# Initialise parameter values\n",
    "theta_0 = 1\n",
    "theta_1 = np.array([1,1])\n",
    "\n",
    "# Gradually update the parameter values\n",
    "n = 0\n",
    "while n < 20000:\n",
    "    theta_0, theta_1 = gradient_descent_update(x, y, theta_0, theta_1)\n",
    "    n += 1\n",
    "    \n",
    "print('theta_0: ', theta_0)\n",
    "print('theta_1: ', theta_1)\n",
    "print('Final Loss: ', loss_function(y, hypothesis_function(x, theta_0, theta_1)))"
   ]
  },
  {
   "cell_type": "markdown",
   "metadata": {},
   "source": [
    "The output final loss suggests that the algorithm has converged, and we can check by comparing the predicted values against the actual values:"
   ]
  },
  {
   "cell_type": "code",
   "execution_count": 15,
   "metadata": {},
   "outputs": [],
   "source": [
    "def predict_labels(x, theta_0, theta_1, threshold = 0.5):\n",
    "    return 1*np.greater_equal(hypothesis_function(x, theta_0, theta_1), threshold)"
   ]
  },
  {
   "cell_type": "code",
   "execution_count": 16,
   "metadata": {},
   "outputs": [
    {
     "name": "stdout",
     "output_type": "stream",
     "text": [
      "Actual labels:  [1 0 1 1 0 1]\n",
      "Predicted labels:  [1 0 1 1 0 1]\n"
     ]
    }
   ],
   "source": [
    "print('Actual labels: ', y)\n",
    "predicted_labels = predict_labels(x, theta_0, theta_1)\n",
    "print('Predicted labels: ', predicted_labels)"
   ]
  },
  {
   "cell_type": "markdown",
   "metadata": {},
   "source": [
    "We can then measure the accuracy on the training set as the number of correctly classified data points divided by the total number of data points:"
   ]
  },
  {
   "cell_type": "code",
   "execution_count": 17,
   "metadata": {},
   "outputs": [
    {
     "name": "stdout",
     "output_type": "stream",
     "text": [
      "Accuracy:  100.0 %\n"
     ]
    }
   ],
   "source": [
    "accuracy = 100*np.sum(y==predicted_labels)/len(y)\n",
    "print('Accuracy: ', accuracy, '%')"
   ]
  },
  {
   "cell_type": "markdown",
   "metadata": {},
   "source": [
    "## Multi-Class Classification\n",
    "\n",
    "Here we will use the *one-vs-all* paradigm to apply the logistic regression algorithm above to a multi-class setting:"
   ]
  },
  {
   "cell_type": "code",
   "execution_count": 18,
   "metadata": {},
   "outputs": [
    {
     "name": "stdout",
     "output_type": "stream",
     "text": [
      "Example Datapoint:  [array([2, 7]) 1]\n"
     ]
    }
   ],
   "source": [
    "import numpy as np\n",
    "\n",
    "# Define the features, the independent variables. This example has two features.\n",
    "x = np.array([[2,7],[1,1],[3,18],[2,5],[1,2],[3,10]])\n",
    "\n",
    "# Define the labels, the dependent variables\n",
    "y = np.array([1,0,2,1,0,2])\n",
    "\n",
    "# A single data point is then:\n",
    "p1 = np.array([x[0], y[0]])\n",
    "print('Example Datapoint: ', p1)"
   ]
  },
  {
   "cell_type": "markdown",
   "metadata": {},
   "source": [
    "We cannot directly apply our logistic regression algorithm to this problem as our loss function was defined explicitly for the binary case where our label was either 0 or 1\n",
    "\n",
    "The one-vs-all paradigm involves reducing the set of classes into multiple binary classification problems. This is done by setting all classes except for one to be the *negative* class, and the target class as the *positive* class, and then repeating this to find a decision boundary for each class in turn\n",
    "\n",
    "To then classify the point, we select the class that gives the maximum likelihood from all of the trained classifiers"
   ]
  },
  {
   "cell_type": "code",
   "execution_count": 19,
   "metadata": {},
   "outputs": [
    {
     "name": "stdout",
     "output_type": "stream",
     "text": [
      "[ 5.31106484 -2.04777234 -6.79007285]\n",
      "[[ 2.07723007  1.76489344 -1.52059359]\n",
      " [-2.52525259 -0.31958367  1.26753184]]\n"
     ]
    }
   ],
   "source": [
    "possible_classes = [0,1,2]\n",
    "\n",
    "# Initialise parameter values\n",
    "theta_0 = np.ones(len(possible_classes))\n",
    "theta_1 = np.array([np.ones(len(possible_classes)),np.ones(len(possible_classes))])\n",
    "\n",
    "for i in range(len(possible_classes)):\n",
    "    new_y = np.array([])\n",
    "    for label in y:\n",
    "        if label==possible_classes[i]:\n",
    "            new_y = np.append(new_y, 1)\n",
    "        else:\n",
    "            new_y = np.append(new_y, 0)\n",
    "\n",
    "    # Gradually update the parameter values\n",
    "    n = 0\n",
    "    while n < 20000:\n",
    "        theta_0[i], theta_1[:,i] = gradient_descent_update(x, new_y, theta_0[i], theta_1[:,i])\n",
    "        n += 1\n",
    "        \n",
    "print(theta_0)\n",
    "print(theta_1)\n",
    "                "
   ]
  },
  {
   "cell_type": "markdown",
   "metadata": {},
   "source": [
    "Now we have trained the three seperate binary classifiers, we can predict the label of each data point by taking the maximum output of the classifiers:"
   ]
  },
  {
   "cell_type": "code",
   "execution_count": 20,
   "metadata": {},
   "outputs": [],
   "source": [
    "def predict_labels_multiclass(x, theta_0, theta_1):\n",
    "    max_value = np.zeros(len(x))\n",
    "    predicted_label = -1*np.ones(len(x))\n",
    "    for i in range(len(theta_0)):\n",
    "        value = hypothesis_function(x, theta_0[i], theta_1[:,i])\n",
    "        for j in range(len(x)):\n",
    "            if value[j] > max_value[j]:\n",
    "                max_value[j] = value[j]\n",
    "                predicted_label[j] = i\n",
    "            \n",
    "    return predicted_label"
   ]
  },
  {
   "cell_type": "code",
   "execution_count": 21,
   "metadata": {},
   "outputs": [
    {
     "name": "stdout",
     "output_type": "stream",
     "text": [
      "Actual labels:  [1 0 2 1 0 2]\n",
      "Predicted labels:  [ 1.  0.  2.  1.  0.  2.]\n",
      "Accuracy:  100.0 %\n"
     ]
    }
   ],
   "source": [
    "print('Actual labels: ', y)\n",
    "predicted_labels = predict_labels_multiclass(x, theta_0, theta_1)\n",
    "print('Predicted labels: ', predicted_labels)\n",
    "\n",
    "accuracy = 100*np.sum(y==predicted_labels)/len(y)\n",
    "print('Accuracy: ', accuracy, '%')"
   ]
  },
  {
   "cell_type": "code",
   "execution_count": null,
   "metadata": {},
   "outputs": [],
   "source": []
  }
 ],
 "metadata": {
  "kernelspec": {
   "display_name": "Python [conda env:ML_Coursera]",
   "language": "python",
   "name": "conda-env-ML_Coursera-py"
  },
  "language_info": {
   "codemirror_mode": {
    "name": "ipython",
    "version": 3
   },
   "file_extension": ".py",
   "mimetype": "text/x-python",
   "name": "python",
   "nbconvert_exporter": "python",
   "pygments_lexer": "ipython3",
   "version": "3.6.2"
  }
 },
 "nbformat": 4,
 "nbformat_minor": 2
}

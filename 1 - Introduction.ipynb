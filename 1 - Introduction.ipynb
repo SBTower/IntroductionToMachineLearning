{
 "cells": [
  {
   "cell_type": "markdown",
   "metadata": {},
   "source": [
    "# Introduction\n",
    "\n",
    "## What is Machine Learning?\n",
    "*Field of study that gives the computer the ability to learn without being explicitly programmed*\n",
    "\n",
    "*A computer program is said to learn from Experience E with respect to some task T and some performance measure P, if its performance on T, as measured by P, improves with experience E*\n",
    "\n",
    "Examples include an internet search engine or an email spam filter.\n",
    "\n",
    "Machine Learning can be split into two key categories: *Supervised* and *Unsupervised* learning. Other labels exist, such as semi-supervised or Reinforcement Learning, but in this course the focus will be on Supervised and Unsupervised learning.\n",
    "\n",
    "## Supervised Learning\n",
    "A supervised learning problem involves training a model based on a collection of *labelled* historical data.\n",
    "\n",
    "Supervised learning tends to be a *classification* or a *regression* problem. Classification problems involve categorising data points into one of a number of possible *discrete categories*. Regression problems involve fitting a function to a set of data to accurately predict a *continous valued output*.\n",
    "\n",
    "The data points are described by a set of *features*. Generally the objective of a classification machine learning algorithm is to utilise the features to create sub-spaces of the feature space that belong to a single class. For regression problems, the features are used as inputs to a function that can be used to estimate the value of an unknown feature.\n",
    "\n",
    "## Unsupervised Learning\n",
    "Unsupervised learning doesn't have the luxury of a set of data with accurate labels, and only has the raw data to work with. These techniques therefore tend to find a solution that maximises a separation of the data set, utilising a discovered structure within the data. *Clustering* techniques are a form of unsupervised learning.\n",
    "\n"
   ]
  }
 ],
 "metadata": {
  "kernelspec": {
   "display_name": "Python [conda env:ML_Coursera]",
   "language": "python",
   "name": "conda-env-ML_Coursera-py"
  },
  "language_info": {
   "codemirror_mode": {
    "name": "ipython",
    "version": 3
   },
   "file_extension": ".py",
   "mimetype": "text/x-python",
   "name": "python",
   "nbconvert_exporter": "python",
   "pygments_lexer": "ipython3",
   "version": "3.6.2"
  }
 },
 "nbformat": 4,
 "nbformat_minor": 2
}
